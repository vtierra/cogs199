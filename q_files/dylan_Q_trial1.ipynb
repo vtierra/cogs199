{
 "cells": [
  {
   "cell_type": "markdown",
   "metadata": {},
   "source": [
    "# Dylan's Data from Q headset"
   ]
  },
  {
   "cell_type": "code",
   "execution_count": 1,
   "metadata": {
    "collapsed": true
   },
   "outputs": [],
   "source": [
    "import pandas as pd\n",
    "import string as st\n",
    "import math\n",
    "import matplotlib\n",
    "import numpy as np\n",
    "%matplotlib inline\n",
    "import matplotlib.pyplot as plt"
   ]
  },
  {
   "cell_type": "code",
   "execution_count": 2,
   "metadata": {
    "collapsed": true
   },
   "outputs": [],
   "source": [
    "#Read csv file\n",
    "data= pd.read_csv(\"dylan_one_filtered_noheader.csv\")"
   ]
  },
  {
   "cell_type": "code",
   "execution_count": 3,
   "metadata": {},
   "outputs": [
    {
     "data": {
      "text/plain": [
       "<matplotlib.legend.Legend at 0x107144780>"
      ]
     },
     "execution_count": 3,
     "metadata": {},
     "output_type": "execute_result"
    },
    {
     "data": {
      "image/png": "[encoded data removed]",
      "text/plain": [
       "<matplotlib.figure.Figure at 0x112e38a58>"
      ]
     },
     "metadata": {},
     "output_type": "display_data"
    }
   ],
   "source": [
    "#plot the raw data form the csv\n",
    "\n",
    "plt.xlabel('Time')\n",
    "plt.ylabel('Voltage')\n",
    "df1_voltage = data[['E1', 'E2','E3','E4','E5','E6','E7']]\n",
    "plt.plot(range(len(df1_voltage)), df1_voltage)\n",
    "plt.legend(('E1', 'E2', 'E3', 'E4', 'E5', 'E6','E7'),bbox_to_anchor=(1.04,1), borderaxespad=0)"
   ]
  },
  {
   "cell_type": "code",
   "execution_count": null,
   "metadata": {},
   "outputs": [],
   "source": [
    "#Take the average of the sample (I think Q headset is 300hz/sec) double check\n",
    "\n",
    "E1_avg=[]\n",
    "E2_avg=[]\n",
    "E3_avg=[]\n",
    "E4_avg=[]\n",
    "E5_avg=[]\n",
    "E6_avg=[]\n",
    "E7_avg=[]\n",
    "i=0;\n",
    "while i < len(data['E1']):\n",
    "    E1_avg.append(np.sum(data['E1'][i:300+i])/300);\n",
    "    E2_avg.append(np.sum(data['E2'][i:300+i])/300);\n",
    "    E3_avg.append(np.sum(data['E3'][i:300+i])/300);\n",
    "    E4_avg.append(np.sum(data['E4'][i:300+i])/300);\n",
    "    E5_avg.append(np.sum(data['E5'][i:300+i])/300);\n",
    "    E6_avg.append(np.sum(data['E6'][i:300+i])/300);\n",
    "    E7_avg.append(np.sum(data['E7'][i:300+i])/300);\n",
    "    i = i+300;"
   ]
  },
  {
   "cell_type": "code",
   "execution_count": null,
   "metadata": {
    "collapsed": true
   },
   "outputs": [],
   "source": [
    "#Create a new dataframe with the average values\n",
    "\n",
    "avg_df = pd.DataFrame([E1_avg, E2_avg, E3_avg, E4_avg, E5_avg, E6_avg, E7_avg])\n",
    "avg_df = avg_df.transpose()\n",
    "avg_df.rename(columns={0:\"E1\", 1:\"E2\", 2:\"E3\", 3:\"E4\", 4:\"E5\", 5:\"E6\", 6:\"E7\"}, inplace=True)"
   ]
  },
  {
   "cell_type": "code",
   "execution_count": null,
   "metadata": {},
   "outputs": [],
   "source": [
    "#new dataFrame\n",
    "avg_df"
   ]
  },
  {
   "cell_type": "code",
   "execution_count": null,
   "metadata": {},
   "outputs": [],
   "source": [
    "#Visualize the filtered/averaged dataset\n",
    "\n",
    "plt.xlabel('Time')\n",
    "plt.ylabel('Voltage')\n",
    "avg_df = avg_df[['E1', 'E2','E3','E4','E5','E6']]\n",
    "plt.plot(range(len(avg_df)), avg_df)\n",
    "plt.legend(('E1', 'E2', 'E3', 'E4', 'E5', 'E6'),bbox_to_anchor=(1.04,1), borderaxespad=0)"
   ]
  }
 ],
 "metadata": {
  "kernelspec": {
   "display_name": "Python 3",
   "language": "python",
   "name": "python3"
  },
  "language_info": {
   "codemirror_mode": {
    "name": "ipython",
    "version": 3
   },
   "file_extension": ".py",
   "mimetype": "text/x-python",
   "name": "python",
   "nbconvert_exporter": "python",
   "pygments_lexer": "ipython3",
   "version": "3.6.0"
  }
 },
 "nbformat": 4,
 "nbformat_minor": 2
}
